{
  "nbformat": 4,
  "nbformat_minor": 0,
  "metadata": {
    "colab": {
      "provenance": [],
      "authorship_tag": "ABX9TyPE758gJN5gu/URgssTQbSu",
      "include_colab_link": true
    },
    "kernelspec": {
      "name": "python3",
      "display_name": "Python 3"
    },
    "language_info": {
      "name": "python"
    }
  },
  "cells": [
    {
      "cell_type": "markdown",
      "metadata": {
        "id": "view-in-github",
        "colab_type": "text"
      },
      "source": [
        "<a href=\"https://colab.research.google.com/github/ambilisunil/python_basics/blob/main/Functions%26ClassesOOP.ipynb\" target=\"_parent\"><img src=\"https://colab.research.google.com/assets/colab-badge.svg\" alt=\"Open In Colab\"/></a>"
      ]
    },
    {
      "cell_type": "markdown",
      "source": [
        "#  **function** is a reusable block of code that performs a specific task. Functions help in making the code more modular, readable, and reusable."
      ],
      "metadata": {
        "id": "ad2tz8dFzvzM"
      }
    },
    {
      "cell_type": "markdown",
      "source": [
        "DEFINE FUNCTION :using **def**"
      ],
      "metadata": {
        "id": "3-jop9ASz1nC"
      }
    },
    {
      "cell_type": "code",
      "execution_count": 1,
      "metadata": {
        "colab": {
          "base_uri": "https://localhost:8080/"
        },
        "id": "Q9EgFXFGzc4K",
        "outputId": "c6ab2661-41bd-4afa-ac98-dee904a0edf6"
      },
      "outputs": [
        {
          "output_type": "stream",
          "name": "stdout",
          "text": [
            "enter the first number2\n",
            "enter the second number3\n",
            "5\n"
          ]
        }
      ],
      "source": [
        "def add(x,y):\n",
        "  print(x+y)\n",
        "x=int(input(\"enter the first number\"))\n",
        "y=int(input(\"enter the second number\"))\n",
        "add(x,y)"
      ]
    },
    {
      "cell_type": "markdown",
      "source": [
        "# **CLASSES**\n",
        "a class is a blueprint for creating objects. It defines properties (**attributes**) and behaviors (**methods**).\n",
        "**self**  is like this\n",
        "\n",
        "\n"
      ],
      "metadata": {
        "id": "Qm1HMdXV0m0M"
      }
    },
    {
      "cell_type": "code",
      "source": [
        "class Color:\n",
        "  name=\"orange\" #attribute\n",
        "  index=1  #attribute\n",
        "\n",
        "  def pFun(self):  #method\n",
        "    print(self.name)\n",
        "    print(self.index)\n",
        "\n",
        "instance =Color()\n",
        "instance.pFun()\n",
        "\n",
        "\n"
      ],
      "metadata": {
        "colab": {
          "base_uri": "https://localhost:8080/"
        },
        "id": "FdzPv1Qt1DTM",
        "outputId": "78aed214-dc4c-4151-f0f2-671f2c21f051"
      },
      "execution_count": 4,
      "outputs": [
        {
          "output_type": "stream",
          "name": "stdout",
          "text": [
            "orange\n",
            "1\n"
          ]
        }
      ]
    },
    {
      "cell_type": "markdown",
      "source": [
        "# Class with instalization"
      ],
      "metadata": {
        "id": "jGIM69Ha19Nr"
      }
    },
    {
      "cell_type": "code",
      "source": [
        "class Color:\n",
        "  name=\"\"\n",
        "  index=1\n",
        "\n",
        "  def __init__(self,name,index=\"a\"):  # like constructor\n",
        "    self.name=name\n",
        "    self.inex=index\n",
        "\n",
        "  def pFun(self):\n",
        "    print(self.name)\n",
        "    print(self.index)\n",
        "\n",
        "instance = Color(\"arul\",\"1\")\n",
        "instance.pFun()\n",
        "\n"
      ],
      "metadata": {
        "colab": {
          "base_uri": "https://localhost:8080/"
        },
        "id": "dKzXLnTS2CcQ",
        "outputId": "84f95f1b-ec21-4f14-c11a-bea786b6f02d"
      },
      "execution_count": 17,
      "outputs": [
        {
          "output_type": "stream",
          "name": "stdout",
          "text": [
            "arul\n",
            "1\n"
          ]
        }
      ]
    },
    {
      "cell_type": "markdown",
      "source": [],
      "metadata": {
        "id": "nn5FoE3C2CKZ"
      }
    }
  ]
}