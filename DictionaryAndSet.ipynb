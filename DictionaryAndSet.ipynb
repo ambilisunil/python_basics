{
  "nbformat": 4,
  "nbformat_minor": 0,
  "metadata": {
    "colab": {
      "provenance": [],
      "authorship_tag": "ABX9TyNs2quV80MkDa7cA9dgyYmy",
      "include_colab_link": true
    },
    "kernelspec": {
      "name": "python3",
      "display_name": "Python 3"
    },
    "language_info": {
      "name": "python"
    }
  },
  "cells": [
    {
      "cell_type": "markdown",
      "metadata": {
        "id": "view-in-github",
        "colab_type": "text"
      },
      "source": [
        "<a href=\"https://colab.research.google.com/github/ambilisunil/python_basics/blob/main/DictionaryAndSet.ipynb\" target=\"_parent\"><img src=\"https://colab.research.google.com/assets/colab-badge.svg\" alt=\"Open In Colab\"/></a>"
      ]
    },
    {
      "cell_type": "markdown",
      "source": [
        "# A **dictionary** in Python is a collection of key-value pairs, where each key is unique, and values can be of any data type."
      ],
      "metadata": {
        "id": "rsxNgETExEG2"
      }
    },
    {
      "cell_type": "code",
      "execution_count": 4,
      "metadata": {
        "colab": {
          "base_uri": "https://localhost:8080/"
        },
        "id": "pS9lv--gxAOH",
        "outputId": "5786ac5e-e6d6-4f86-92b5-de6d31265f14"
      },
      "outputs": [
        {
          "output_type": "stream",
          "name": "stdout",
          "text": [
            "<class 'dict'>\n",
            "{1: 'ammu', 2: 'aji', 3: 'aju', 4: 'ammini'}\n"
          ]
        }
      ],
      "source": [
        "d_data={1:\"ammu\",2:\"aji\",3:\"aju\",4:\"ammini\"}\n",
        "print(type(d_data))\n",
        "print(d_data)"
      ]
    },
    {
      "cell_type": "code",
      "source": [
        "d_data[1]"
      ],
      "metadata": {
        "colab": {
          "base_uri": "https://localhost:8080/",
          "height": 36
        },
        "id": "BYzJpjRQxiew",
        "outputId": "2f6a8feb-2916-47ef-dbe6-df3250320d62"
      },
      "execution_count": 5,
      "outputs": [
        {
          "output_type": "execute_result",
          "data": {
            "text/plain": [
              "'ammu'"
            ],
            "application/vnd.google.colaboratory.intrinsic+json": {
              "type": "string"
            }
          },
          "metadata": {},
          "execution_count": 5
        }
      ]
    },
    {
      "cell_type": "code",
      "source": [
        "len(d_data)"
      ],
      "metadata": {
        "colab": {
          "base_uri": "https://localhost:8080/"
        },
        "id": "JrhYpQ3ixt7U",
        "outputId": "da1ea047-ef97-46e8-cfdd-0092e2ff51f1"
      },
      "execution_count": 6,
      "outputs": [
        {
          "output_type": "execute_result",
          "data": {
            "text/plain": [
              "4"
            ]
          },
          "metadata": {},
          "execution_count": 6
        }
      ]
    },
    {
      "cell_type": "code",
      "source": [
        "for key in d_data:\n",
        "  print(key,d_data[key])"
      ],
      "metadata": {
        "colab": {
          "base_uri": "https://localhost:8080/"
        },
        "id": "Y7QnYISpx0lx",
        "outputId": "0e112f96-2558-4720-e75d-b256c3e4708a"
      },
      "execution_count": 7,
      "outputs": [
        {
          "output_type": "stream",
          "name": "stdout",
          "text": [
            "1 ammu\n",
            "2 aji\n",
            "3 aju\n",
            "4 ammini\n"
          ]
        }
      ]
    },
    {
      "cell_type": "code",
      "source": [
        "for key,value in d_data.items():\n",
        "  print(key,value)"
      ],
      "metadata": {
        "colab": {
          "base_uri": "https://localhost:8080/"
        },
        "id": "Kduh4qfNyA4d",
        "outputId": "815a076e-ea65-4804-f84f-872949b23eb8"
      },
      "execution_count": 10,
      "outputs": [
        {
          "output_type": "stream",
          "name": "stdout",
          "text": [
            "1 ammu\n",
            "2 aji\n",
            "3 aju\n",
            "4 ammini\n"
          ]
        }
      ]
    },
    {
      "cell_type": "code",
      "source": [
        "print(d_data.items())"
      ],
      "metadata": {
        "colab": {
          "base_uri": "https://localhost:8080/"
        },
        "id": "4FeMO3NpyNO6",
        "outputId": "a6e9f162-fe75-4ef3-95af-e1a4c0313404"
      },
      "execution_count": 11,
      "outputs": [
        {
          "output_type": "stream",
          "name": "stdout",
          "text": [
            "dict_items([(1, 'ammu'), (2, 'aji'), (3, 'aju'), (4, 'ammini')])\n"
          ]
        }
      ]
    },
    {
      "cell_type": "code",
      "source": [
        "d_data[9]=\"akkki\"\n",
        "print(d_data)"
      ],
      "metadata": {
        "colab": {
          "base_uri": "https://localhost:8080/"
        },
        "id": "2__ddPcCyWMQ",
        "outputId": "801ddb8f-7138-4f2a-8a69-51753bbb0e7b"
      },
      "execution_count": 12,
      "outputs": [
        {
          "output_type": "stream",
          "name": "stdout",
          "text": [
            "{1: 'ammu', 2: 'aji', 3: 'aju', 4: 'ammini', 9: 'akkki'}\n"
          ]
        }
      ]
    },
    {
      "cell_type": "markdown",
      "source": [
        "# A **set** in Python is an unordered collection of unique elements. It is useful for removing duplicates and performing set operations like union, intersection, and difference."
      ],
      "metadata": {
        "id": "An9QYOX3yyw2"
      }
    },
    {
      "cell_type": "code",
      "source": [
        "a=[1,8,3,22,6,22,8,2]\n",
        "print(a)\n",
        "b= set(a)\n",
        "print(b)"
      ],
      "metadata": {
        "colab": {
          "base_uri": "https://localhost:8080/"
        },
        "id": "anybva2My3jm",
        "outputId": "d9f5cd78-53da-4e63-9651-bd830656de24"
      },
      "execution_count": 13,
      "outputs": [
        {
          "output_type": "stream",
          "name": "stdout",
          "text": [
            "[1, 8, 3, 22, 6, 22, 8, 2]\n",
            "{1, 2, 3, 6, 8, 22}\n"
          ]
        }
      ]
    }
  ]
}