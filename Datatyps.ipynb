{
  "nbformat": 4,
  "nbformat_minor": 0,
  "metadata": {
    "colab": {
      "provenance": []
    },
    "kernelspec": {
      "name": "python3",
      "display_name": "Python 3"
    },
    "language_info": {
      "name": "python"
    }
  },
  "cells": [
    {
      "cell_type": "markdown",
      "source": [
        "**varriable instalization**"
      ],
      "metadata": {
        "id": "wFMVjPs-tgHz"
      }
    },
    {
      "cell_type": "code",
      "execution_count": 4,
      "metadata": {
        "colab": {
          "base_uri": "https://localhost:8080/"
        },
        "id": "i3yM1CZXtCPW",
        "outputId": "e42c6be7-287d-4cf8-d563-0c4e4cb1ac92"
      },
      "outputs": [
        {
          "output_type": "stream",
          "name": "stdout",
          "text": [
            "12\n",
            "<class 'int'>\n",
            "12.9\n",
            "<class 'float'>\n"
          ]
        }
      ],
      "source": [
        "number=12  # int type\n",
        "print(number)\n",
        "print(type(number))\n",
        "\n",
        "number =12.9\n",
        "print(number)\n",
        "print(type(number))\n"
      ]
    },
    {
      "cell_type": "code",
      "source": [
        "#Boolean\n",
        "number=True\n",
        "print(number)\n",
        "print(type(number))\n"
      ],
      "metadata": {
        "colab": {
          "base_uri": "https://localhost:8080/"
        },
        "id": "YWFIrzbft46m",
        "outputId": "5e8f3aae-e5f7-4bad-8221-5f0e26f7549b"
      },
      "execution_count": 5,
      "outputs": [
        {
          "output_type": "stream",
          "name": "stdout",
          "text": [
            "True\n",
            "<class 'bool'>\n"
          ]
        }
      ]
    },
    {
      "cell_type": "markdown",
      "source": [
        "True ^ True evaluates to False\n",
        "True ^ False evaluates to True\n",
        "False ^ True evaluates to True\n",
        "False ^ False evaluates to False"
      ],
      "metadata": {
        "id": "HBY5hO-Wu5pv"
      }
    },
    {
      "cell_type": "code",
      "source": [
        "#Boolean operations\n",
        "a=True\n",
        "b=False\n",
        "print(a & b)\n",
        "print(a | b)\n",
        "print(a ^ b)\n",
        "print(not a)\n",
        "print(a and b)\n",
        "print(a or b)\n",
        "print(a ^ b)\n",
        "print(not a)\n"
      ],
      "metadata": {
        "colab": {
          "base_uri": "https://localhost:8080/"
        },
        "id": "hCyvVDwguCEj",
        "outputId": "4a7c142a-33ee-4b88-b121-2d2d172ab9c0"
      },
      "execution_count": 6,
      "outputs": [
        {
          "output_type": "stream",
          "name": "stdout",
          "text": [
            "False\n",
            "True\n",
            "True\n",
            "False\n",
            "False\n",
            "True\n",
            "True\n",
            "False\n"
          ]
        }
      ]
    }
  ]
}