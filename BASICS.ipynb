{
  "nbformat": 4,
  "nbformat_minor": 0,
  "metadata": {
    "colab": {
      "provenance": [],
      "authorship_tag": "ABX9TyMhcpIf5lmHeiQZ7QkUgzDS",
      "include_colab_link": true
    },
    "kernelspec": {
      "name": "python3",
      "display_name": "Python 3"
    },
    "language_info": {
      "name": "python"
    }
  },
  "cells": [
    {
      "cell_type": "markdown",
      "metadata": {
        "id": "view-in-github",
        "colab_type": "text"
      },
      "source": [
        "<a href=\"https://colab.research.google.com/github/ambilisunil/python_basics/blob/main/BASICS.ipynb\" target=\"_parent\"><img src=\"https://colab.research.google.com/assets/colab-badge.svg\" alt=\"Open In Colab\"/></a>"
      ]
    },
    {
      "cell_type": "markdown",
      "source": [],
      "metadata": {
        "id": "wFMVjPs-tgHz"
      }
    },
    {
      "cell_type": "markdown",
      "source": [
        "**DATA TYPES**\n",
        "\n",
        "---\n",
        "\n"
      ],
      "metadata": {
        "id": "ZvGKc4jav_Ux"
      }
    },
    {
      "cell_type": "code",
      "execution_count": null,
      "metadata": {
        "colab": {
          "base_uri": "https://localhost:8080/"
        },
        "id": "i3yM1CZXtCPW",
        "outputId": "0b1b0bae-901b-4c48-ed66-724acc927d8f"
      },
      "outputs": [
        {
          "output_type": "stream",
          "name": "stdout",
          "text": [
            "12\n",
            "<class 'int'>\n",
            "12.9\n",
            "<class 'float'>\n"
          ]
        }
      ],
      "source": [
        "number=12  # int type\n",
        "print(number)\n",
        "print(type(number))\n",
        "\n",
        "number =12.9\n",
        "print(number)\n",
        "print(type(number))\n"
      ]
    },
    {
      "cell_type": "markdown",
      "source": [],
      "metadata": {
        "id": "urolVIZxv-FI"
      }
    },
    {
      "cell_type": "code",
      "source": [
        "#Boolean\n",
        "number=True\n",
        "print(number)\n",
        "print(type(number))\n"
      ],
      "metadata": {
        "colab": {
          "base_uri": "https://localhost:8080/"
        },
        "id": "YWFIrzbft46m",
        "outputId": "5e8f3aae-e5f7-4bad-8221-5f0e26f7549b"
      },
      "execution_count": null,
      "outputs": [
        {
          "output_type": "stream",
          "name": "stdout",
          "text": [
            "True\n",
            "<class 'bool'>\n"
          ]
        }
      ]
    },
    {
      "cell_type": "markdown",
      "source": [
        "True ^ True evaluates to False\n",
        "True ^ False evaluates to True\n",
        "False ^ True evaluates to True\n",
        "False ^ False evaluates to False"
      ],
      "metadata": {
        "id": "HBY5hO-Wu5pv"
      }
    },
    {
      "cell_type": "code",
      "source": [
        "#Boolean operations\n",
        "a=True\n",
        "b=False\n",
        "print(a & b)\n",
        "print(a | b)\n",
        "print(a ^ b)\n",
        "print(not a)\n",
        "print(a and b)\n",
        "print(a or b)\n",
        "print(a ^ b)\n",
        "print(not a)\n"
      ],
      "metadata": {
        "colab": {
          "base_uri": "https://localhost:8080/"
        },
        "id": "hCyvVDwguCEj",
        "outputId": "4a7c142a-33ee-4b88-b121-2d2d172ab9c0"
      },
      "execution_count": null,
      "outputs": [
        {
          "output_type": "stream",
          "name": "stdout",
          "text": [
            "False\n",
            "True\n",
            "True\n",
            "False\n",
            "False\n",
            "True\n",
            "True\n",
            "False\n"
          ]
        }
      ]
    },
    {
      "cell_type": "markdown",
      "source": [
        "**PRINT**"
      ],
      "metadata": {
        "id": "fOGLjQoGwP1j"
      }
    },
    {
      "cell_type": "code",
      "source": [
        "msg =\"Hello world\"\n",
        "print(msg)"
      ],
      "metadata": {
        "colab": {
          "base_uri": "https://localhost:8080/"
        },
        "id": "fp8gwMf6wWVu",
        "outputId": "9e293ebc-3d5f-427e-8e15-b3473796304b"
      },
      "execution_count": null,
      "outputs": [
        {
          "output_type": "stream",
          "name": "stdout",
          "text": [
            "Hello world\n"
          ]
        }
      ]
    },
    {
      "cell_type": "code",
      "source": [
        "print(\" printing varriable msg \",msg)  # using comma operator"
      ],
      "metadata": {
        "colab": {
          "base_uri": "https://localhost:8080/"
        },
        "id": "eixVNXllwiir",
        "outputId": "ac79b71d-82c2-4edf-bcb8-a97610d3a295"
      },
      "execution_count": null,
      "outputs": [
        {
          "output_type": "stream",
          "name": "stdout",
          "text": [
            " printing varriable msg  Hello world\n"
          ]
        }
      ]
    },
    {
      "cell_type": "markdown",
      "source": [
        "**sep**: Separator between multiple arguments in print(). Default is a space.\n"
      ],
      "metadata": {
        "id": "HKAMaKOoxuNB"
      }
    },
    {
      "cell_type": "markdown",
      "source": [
        "**end**: Defines what is printed at the end. Default is a newline (\\n)."
      ],
      "metadata": {
        "id": "uwAb4RIjyPOE"
      }
    },
    {
      "cell_type": "code",
      "source": [
        "print(\"ammu\",\"ashok\",sep=\" and \",end=\" are friends\")"
      ],
      "metadata": {
        "colab": {
          "base_uri": "https://localhost:8080/"
        },
        "id": "dYKZSLCkw1Zq",
        "outputId": "477867c0-631e-43b2-8734-a8d8aa9156ca"
      },
      "execution_count": null,
      "outputs": [
        {
          "output_type": "stream",
          "name": "stdout",
          "text": [
            "ammu and ashok are friends"
          ]
        }
      ]
    },
    {
      "cell_type": "code",
      "source": [
        "print('Arul have {} and {} paper'.format(\"black\",\"white\"))\n",
        "\n",
        "#This Python print() statement uses the .format() method to insert values into placeholders {} within a string"
      ],
      "metadata": {
        "colab": {
          "base_uri": "https://localhost:8080/"
        },
        "id": "65pQA6AEyRs_",
        "outputId": "db52d177-85ff-431e-e13b-83bb7a8b4456"
      },
      "execution_count": null,
      "outputs": [
        {
          "output_type": "stream",
          "name": "stdout",
          "text": [
            "Arul have black and white paper\n"
          ]
        }
      ]
    },
    {
      "cell_type": "code",
      "source": [
        "nam1=\"ammu\"\n",
        "nam2=\"ashok\"\n",
        "\n",
        "print(\"%s and %s\" % (nam1,nam2))\n",
        "\n",
        "#This Python print() statement uses old-style string formatting (% operator) to insert values into a string."
      ],
      "metadata": {
        "colab": {
          "base_uri": "https://localhost:8080/"
        },
        "id": "AkHMKoSay-RD",
        "outputId": "782362c6-70a4-4c40-8b90-ad133793533f"
      },
      "execution_count": null,
      "outputs": [
        {
          "output_type": "stream",
          "name": "stdout",
          "text": [
            "ammu and ashok\n"
          ]
        }
      ]
    },
    {
      "cell_type": "code",
      "source": [
        "n=12.8522659\n",
        "print(n)\n",
        "print(\"{:.2f}\".format(n))\n",
        "\n",
        "#This Python print() statement formats a floating-point number to two decimal places using .format()."
      ],
      "metadata": {
        "colab": {
          "base_uri": "https://localhost:8080/"
        },
        "id": "C1pCtlHTzi67",
        "outputId": "8513c450-cb5a-4e0c-9cd7-bbe6feab69b1"
      },
      "execution_count": null,
      "outputs": [
        {
          "output_type": "stream",
          "name": "stdout",
          "text": [
            "12.8522659\n",
            "12.85\n"
          ]
        }
      ]
    }
  ]
}