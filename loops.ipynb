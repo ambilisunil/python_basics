{
  "nbformat": 4,
  "nbformat_minor": 0,
  "metadata": {
    "colab": {
      "provenance": [],
      "authorship_tag": "ABX9TyNL+KXQvNjtdKtxa4gjCR8R",
      "include_colab_link": true
    },
    "kernelspec": {
      "name": "python3",
      "display_name": "Python 3"
    },
    "language_info": {
      "name": "python"
    }
  },
  "cells": [
    {
      "cell_type": "markdown",
      "metadata": {
        "id": "view-in-github",
        "colab_type": "text"
      },
      "source": [
        "<a href=\"https://colab.research.google.com/github/ambilisunil/python_basics/blob/main/loops.ipynb\" target=\"_parent\"><img src=\"https://colab.research.google.com/assets/colab-badge.svg\" alt=\"Open In Colab\"/></a>"
      ]
    },
    {
      "cell_type": "markdown",
      "source": [
        "# **WHILE LOOP**"
      ],
      "metadata": {
        "id": "M_YuUybyTmF6"
      }
    },
    {
      "cell_type": "code",
      "execution_count": 2,
      "metadata": {
        "colab": {
          "base_uri": "https://localhost:8080/"
        },
        "id": "sBlc7oPTSpfT",
        "outputId": "dd338845-f61c-45c9-d926-31c0982525aa"
      },
      "outputs": [
        {
          "output_type": "stream",
          "name": "stdout",
          "text": [
            "0\n",
            "1\n",
            "2\n",
            "3\n",
            "4\n",
            "5\n",
            "6\n",
            "7\n",
            "8\n",
            "9\n",
            "10\n",
            "i<== 10 i===  11\n"
          ]
        }
      ],
      "source": [
        "n=10\n",
        "i=0\n",
        "while(i<=n):\n",
        "  print(i)\n",
        "  i=i+1\n",
        "else:\n",
        "  print(\"i<==\",n,\"i=== \",i)"
      ]
    },
    {
      "cell_type": "markdown",
      "source": [
        "# **FOR LOOP**"
      ],
      "metadata": {
        "id": "VyTz5_dWTwW_"
      }
    },
    {
      "cell_type": "markdown",
      "source": [
        "**RANGE**"
      ],
      "metadata": {
        "id": "4yAiaYl9UDrg"
      }
    },
    {
      "cell_type": "code",
      "source": [
        "a=list(range(10))\n",
        "print(a)"
      ],
      "metadata": {
        "colab": {
          "base_uri": "https://localhost:8080/"
        },
        "id": "xVR6LLUPUHX7",
        "outputId": "550867ca-1696-4511-8124-55826a4f2e1a"
      },
      "execution_count": 4,
      "outputs": [
        {
          "output_type": "stream",
          "name": "stdout",
          "text": [
            "[0, 1, 2, 3, 4, 5, 6, 7, 8, 9]\n"
          ]
        }
      ]
    },
    {
      "cell_type": "code",
      "source": [
        "a=list(range(2,10))\n",
        "print(a)\n"
      ],
      "metadata": {
        "colab": {
          "base_uri": "https://localhost:8080/"
        },
        "id": "E72HCUj6UQtP",
        "outputId": "70398161-54a3-453d-f7d5-5741489549f8"
      },
      "execution_count": 7,
      "outputs": [
        {
          "output_type": "stream",
          "name": "stdout",
          "text": [
            "[2, 3, 4, 5, 6, 7, 8, 9]\n"
          ]
        }
      ]
    },
    {
      "cell_type": "code",
      "source": [
        "a=list(range(2,10,2))\n",
        "print(a)"
      ],
      "metadata": {
        "colab": {
          "base_uri": "https://localhost:8080/"
        },
        "id": "LnFtz_yJUeQF",
        "outputId": "5e2e6ff2-c7d3-4cff-a31f-c24c04cbddd6"
      },
      "execution_count": 8,
      "outputs": [
        {
          "output_type": "stream",
          "name": "stdout",
          "text": [
            "[2, 4, 6, 8]\n"
          ]
        }
      ]
    },
    {
      "cell_type": "markdown",
      "source": [
        "for loop **in**"
      ],
      "metadata": {
        "id": "mALKWN1JVJS8"
      }
    },
    {
      "cell_type": "code",
      "source": [
        "for i in a :\n",
        "  print(i)"
      ],
      "metadata": {
        "colab": {
          "base_uri": "https://localhost:8080/"
        },
        "id": "SHpRNvxXUuE4",
        "outputId": "70ba312c-d0ef-4c07-a602-61646dc7e674"
      },
      "execution_count": 13,
      "outputs": [
        {
          "output_type": "stream",
          "name": "stdout",
          "text": [
            "2\n",
            "4\n",
            "6\n",
            "8\n"
          ]
        }
      ]
    },
    {
      "cell_type": "code",
      "source": [
        "for i in range(10):   # for=> for(i=0;<10;i++)\n",
        "  print(i,end=\"\") # end useualy /n new line, replace end line with space"
      ],
      "metadata": {
        "colab": {
          "base_uri": "https://localhost:8080/"
        },
        "id": "Z9itKI92VYKI",
        "outputId": "5d5320e6-c2b9-47d0-8061-cc7a58283c7d"
      },
      "execution_count": 14,
      "outputs": [
        {
          "output_type": "stream",
          "name": "stdout",
          "text": [
            "0123456789"
          ]
        }
      ]
    }
  ]
}