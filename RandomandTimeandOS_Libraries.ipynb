{
  "nbformat": 4,
  "nbformat_minor": 0,
  "metadata": {
    "colab": {
      "provenance": [],
      "authorship_tag": "ABX9TyMoealEaK7OgGDT9UCI/ad5",
      "include_colab_link": true
    },
    "kernelspec": {
      "name": "python3",
      "display_name": "Python 3"
    },
    "language_info": {
      "name": "python"
    }
  },
  "cells": [
    {
      "cell_type": "markdown",
      "metadata": {
        "id": "view-in-github",
        "colab_type": "text"
      },
      "source": [
        "<a href=\"https://colab.research.google.com/github/ambilisunil/python_basics/blob/main/RandomandTimeandOS_Libraries.ipynb\" target=\"_parent\"><img src=\"https://colab.research.google.com/assets/colab-badge.svg\" alt=\"Open In Colab\"/></a>"
      ]
    },
    {
      "cell_type": "markdown",
      "source": [
        "# **RANDOM**\n",
        "\n",
        "Python's random Module: Generating Random Numbers\n",
        "\n",
        "The built-in Python random module provides functions for random number generation, shuffling, and sampling."
      ],
      "metadata": {
        "id": "lI4yJT4aXOX2"
      }
    },
    {
      "cell_type": "code",
      "execution_count": 1,
      "metadata": {
        "id": "yvAzqhcdW4KX"
      },
      "outputs": [],
      "source": [
        "import  random"
      ]
    },
    {
      "cell_type": "code",
      "source": [
        "random.randint(0,10) # random number generation between 0 and 10"
      ],
      "metadata": {
        "colab": {
          "base_uri": "https://localhost:8080/"
        },
        "id": "n55sztlFXs71",
        "outputId": "77a0ab15-6357-4b97-d63f-3ce8bbe28edb"
      },
      "execution_count": 5,
      "outputs": [
        {
          "output_type": "execute_result",
          "data": {
            "text/plain": [
              "1"
            ]
          },
          "metadata": {},
          "execution_count": 5
        }
      ]
    },
    {
      "cell_type": "code",
      "source": [
        "random.random() # random number generation between 0 and 1"
      ],
      "metadata": {
        "colab": {
          "base_uri": "https://localhost:8080/"
        },
        "id": "kQAwRNcpX3d1",
        "outputId": "a18b74e2-312d-47dc-ad7b-ea116076c062"
      },
      "execution_count": 6,
      "outputs": [
        {
          "output_type": "execute_result",
          "data": {
            "text/plain": [
              "0.40440593219599374"
            ]
          },
          "metadata": {},
          "execution_count": 6
        }
      ]
    },
    {
      "cell_type": "code",
      "source": [
        "random.random()  *100"
      ],
      "metadata": {
        "colab": {
          "base_uri": "https://localhost:8080/"
        },
        "id": "RKi0zx11YJAL",
        "outputId": "147a1b2d-e9b2-4c60-af8d-e3b835a8b3d3"
      },
      "execution_count": 7,
      "outputs": [
        {
          "output_type": "execute_result",
          "data": {
            "text/plain": [
              "51.357786626921765"
            ]
          },
          "metadata": {},
          "execution_count": 7
        }
      ]
    },
    {
      "cell_type": "code",
      "source": [
        "random.choice([\"sun\",\"moon\",\"sea\",\"leaf\"])   #randomly selct from aset of items"
      ],
      "metadata": {
        "colab": {
          "base_uri": "https://localhost:8080/",
          "height": 36
        },
        "id": "5IH-NGzdYP0Z",
        "outputId": "ad248353-962c-4ce9-dbf2-07475f57d3f4"
      },
      "execution_count": 10,
      "outputs": [
        {
          "output_type": "execute_result",
          "data": {
            "text/plain": [
              "'leaf'"
            ],
            "application/vnd.google.colaboratory.intrinsic+json": {
              "type": "string"
            }
          },
          "metadata": {},
          "execution_count": 10
        }
      ]
    },
    {
      "cell_type": "markdown",
      "source": [
        "# random.**randrange**(start, stop, step)\n",
        "\n",
        "start: The starting number (inclusive).\n",
        "\n",
        "stop: The stopping number (exclusive)\n",
        "*italicised text*\n",
        "step: The difference between possible values."
      ],
      "metadata": {
        "id": "uMJpbJDpZqRj"
      }
    },
    {
      "cell_type": "code",
      "source": [
        "for i in range( 3):\n",
        "  print(random.randrange(1,100,2))\n"
      ],
      "metadata": {
        "colab": {
          "base_uri": "https://localhost:8080/"
        },
        "id": "JEnUA937Y_GL",
        "outputId": "d7cf3626-7b46-422c-dd82-63b424689b70"
      },
      "execution_count": 17,
      "outputs": [
        {
          "output_type": "stream",
          "name": "stdout",
          "text": [
            "71\n",
            "85\n",
            "41\n"
          ]
        }
      ]
    },
    {
      "cell_type": "markdown",
      "source": [
        "# SHUFFLE\n",
        "\n",
        "The random.shuffle() function randomizes the order of elements in a list in-place.\n",
        "\n",
        "\n"
      ],
      "metadata": {
        "id": "WOWZMskbZ4Zs"
      }
    },
    {
      "cell_type": "code",
      "source": [
        "from random import shuffle"
      ],
      "metadata": {
        "id": "y672LKO6Z72q"
      },
      "execution_count": 25,
      "outputs": []
    },
    {
      "cell_type": "code",
      "source": [
        "lst= [1,2,3,4,5,6,7]\n",
        "print(lst)"
      ],
      "metadata": {
        "colab": {
          "base_uri": "https://localhost:8080/"
        },
        "id": "kwrd2RfvaP7v",
        "outputId": "24bd98a5-5b40-4cbd-c0fe-98c68c1fa425"
      },
      "execution_count": 26,
      "outputs": [
        {
          "output_type": "stream",
          "name": "stdout",
          "text": [
            "[1, 2, 3, 4, 5, 6, 7]\n"
          ]
        }
      ]
    },
    {
      "cell_type": "code",
      "source": [
        "shuffle(lst)\n",
        "lst"
      ],
      "metadata": {
        "colab": {
          "base_uri": "https://localhost:8080/"
        },
        "id": "TR5NS_1madKs",
        "outputId": "055526b7-0966-476c-ce9f-f546c3d0d574"
      },
      "execution_count": 31,
      "outputs": [
        {
          "output_type": "execute_result",
          "data": {
            "text/plain": [
              "[1, 4, 7, 3, 2, 6, 5]"
            ]
          },
          "metadata": {},
          "execution_count": 31
        }
      ]
    },
    {
      "cell_type": "code",
      "source": [
        "shuffle(lst)\n",
        "lst"
      ],
      "metadata": {
        "colab": {
          "base_uri": "https://localhost:8080/"
        },
        "id": "hBMFx6a-azvi",
        "outputId": "06bc90d5-ba69-474c-d9f5-2aa636cc9c5f"
      },
      "execution_count": 32,
      "outputs": [
        {
          "output_type": "execute_result",
          "data": {
            "text/plain": [
              "[3, 4, 5, 1, 6, 7, 2]"
            ]
          },
          "metadata": {},
          "execution_count": 32
        }
      ]
    },
    {
      "cell_type": "code",
      "source": [
        "shuffle(lst)\n",
        "lst"
      ],
      "metadata": {
        "colab": {
          "base_uri": "https://localhost:8080/"
        },
        "id": "fAXM5naTa15D",
        "outputId": "735b719b-ff60-4cae-a7b7-ca86e5592eb1"
      },
      "execution_count": 33,
      "outputs": [
        {
          "output_type": "execute_result",
          "data": {
            "text/plain": [
              "[4, 7, 1, 6, 2, 5, 3]"
            ]
          },
          "metadata": {},
          "execution_count": 33
        }
      ]
    },
    {
      "cell_type": "markdown",
      "source": [
        "# **TIME**"
      ],
      "metadata": {
        "id": "fIFm2Zi2bB8I"
      }
    },
    {
      "cell_type": "markdown",
      "source": [
        "The time module provides functions to work with timestamps, delays, and performance measurement."
      ],
      "metadata": {
        "id": "c0vySo95bND1"
      }
    },
    {
      "cell_type": "code",
      "source": [
        "import time"
      ],
      "metadata": {
        "id": "0rrvgIZJbP5p"
      },
      "execution_count": 34,
      "outputs": []
    },
    {
      "cell_type": "code",
      "source": [
        "time.time()"
      ],
      "metadata": {
        "colab": {
          "base_uri": "https://localhost:8080/"
        },
        "id": "qo_Fh7frbU4c",
        "outputId": "2817dc5b-0d9b-4b00-c7ce-5254b99f7a92"
      },
      "execution_count": 35,
      "outputs": [
        {
          "output_type": "execute_result",
          "data": {
            "text/plain": [
              "1742069394.6738386"
            ]
          },
          "metadata": {},
          "execution_count": 35
        }
      ]
    },
    {
      "cell_type": "code",
      "source": [
        "time.sleep(5) #for 5 second deley"
      ],
      "metadata": {
        "id": "srEv8ydnbaew"
      },
      "execution_count": 37,
      "outputs": []
    },
    {
      "cell_type": "markdown",
      "source": [
        "# Python os Module – Interacting with the Operating System\n",
        "**bold text**# The os module allows you to interact with the operating system for file handling, environment variables, process management, and more."
      ],
      "metadata": {
        "id": "G9kP3nGBbmZ-"
      }
    },
    {
      "cell_type": "code",
      "source": [
        "import os"
      ],
      "metadata": {
        "id": "H75vRMoLb3vK"
      },
      "execution_count": 38,
      "outputs": []
    },
    {
      "cell_type": "code",
      "source": [
        "os.getcwd()  #current working directory"
      ],
      "metadata": {
        "colab": {
          "base_uri": "https://localhost:8080/",
          "height": 36
        },
        "id": "kD4MzNJyb-nm",
        "outputId": "4638b05a-1c27-4f95-8d66-7a51c817fb63"
      },
      "execution_count": 44,
      "outputs": [
        {
          "output_type": "execute_result",
          "data": {
            "text/plain": [
              "'/content/sample_data'"
            ],
            "application/vnd.google.colaboratory.intrinsic+json": {
              "type": "string"
            }
          },
          "metadata": {},
          "execution_count": 44
        }
      ]
    },
    {
      "cell_type": "code",
      "source": [
        "os.listdir() # like ls, list director"
      ],
      "metadata": {
        "colab": {
          "base_uri": "https://localhost:8080/"
        },
        "id": "DlBr8GJUcIRu",
        "outputId": "43311607-ccee-430c-d9a6-377b73dd448c"
      },
      "execution_count": 63,
      "outputs": [
        {
          "output_type": "execute_result",
          "data": {
            "text/plain": [
              "['.config', '.ipynb_checkpoints', 'sample_data']"
            ]
          },
          "metadata": {},
          "execution_count": 63
        }
      ]
    },
    {
      "cell_type": "code",
      "source": [
        "os.listdir(\".\")"
      ],
      "metadata": {
        "colab": {
          "base_uri": "https://localhost:8080/"
        },
        "id": "iFedvlv8cP21",
        "outputId": "ada64282-2b41-4a5d-c956-5316d63cca6b"
      },
      "execution_count": 56,
      "outputs": [
        {
          "output_type": "execute_result",
          "data": {
            "text/plain": [
              "['README.md',\n",
              " 'anscombe.json',\n",
              " 'Untitled.png',\n",
              " 'mnist_train_small.csv',\n",
              " 'mnist_test.csv',\n",
              " 'california_housing_train.csv',\n",
              " 'california_housing_test.csv']"
            ]
          },
          "metadata": {},
          "execution_count": 56
        }
      ]
    },
    {
      "cell_type": "code",
      "source": [
        "os.chdir(\"sample_data\")  # like cd change directory"
      ],
      "metadata": {
        "id": "VdBP0Ndzci8E"
      },
      "execution_count": 43,
      "outputs": []
    },
    {
      "cell_type": "code",
      "source": [
        "os.path.exists(\"README.md\")  # check a file exist"
      ],
      "metadata": {
        "colab": {
          "base_uri": "https://localhost:8080/"
        },
        "id": "I0a8uSw7cuYF",
        "outputId": "7fbb1966-2979-4a6d-b68b-dfa526c99316"
      },
      "execution_count": 46,
      "outputs": [
        {
          "output_type": "execute_result",
          "data": {
            "text/plain": [
              "True"
            ]
          },
          "metadata": {},
          "execution_count": 46
        }
      ]
    },
    {
      "cell_type": "code",
      "source": [
        "os.path.exists(\"hgv.md\")"
      ],
      "metadata": {
        "colab": {
          "base_uri": "https://localhost:8080/"
        },
        "id": "Q9QxnDFxc8Mf",
        "outputId": "230f88d3-1261-47ac-99f9-b54fb67ceddf"
      },
      "execution_count": 47,
      "outputs": [
        {
          "output_type": "execute_result",
          "data": {
            "text/plain": [
              "False"
            ]
          },
          "metadata": {},
          "execution_count": 47
        }
      ]
    },
    {
      "cell_type": "code",
      "source": [
        "os.mkdir(\"APK\")  #create directory"
      ],
      "metadata": {
        "id": "vA2l8vMOdEjs"
      },
      "execution_count": 48,
      "outputs": []
    },
    {
      "cell_type": "code",
      "source": [
        "os.rename(\"APK\",\"APK2\")  #rename directory"
      ],
      "metadata": {
        "id": "WC29IKNzdK5F"
      },
      "execution_count": 52,
      "outputs": []
    },
    {
      "cell_type": "code",
      "source": [
        "os.rmdir(\"APK2\") #remove folder"
      ],
      "metadata": {
        "id": "gv8DrhtIdjJ4"
      },
      "execution_count": 55,
      "outputs": []
    },
    {
      "cell_type": "code",
      "source": [
        "os.remove(\"Untitled.png\") #remove file"
      ],
      "metadata": {
        "id": "r2N26iy7eU1p"
      },
      "execution_count": 59,
      "outputs": []
    },
    {
      "cell_type": "markdown",
      "source": [
        "**Python shutil.rmtree() – Delete Non-Empty Folders**\n",
        "\n",
        "The shutil module helps in file operations, and shutil.rmtree() is used to delete non-empty folders."
      ],
      "metadata": {
        "id": "ouUd8jRRezGQ"
      }
    },
    {
      "cell_type": "code",
      "source": [
        "import shutil\n",
        "shutil.rmtree(\"AAAA\")"
      ],
      "metadata": {
        "id": "A5LxrbXAe6Te"
      },
      "execution_count": 60,
      "outputs": []
    },
    {
      "cell_type": "code",
      "source": [
        "os.chdir(\"../\")  # like cd.., prev"
      ],
      "metadata": {
        "id": "sSKCyrTyfOcW"
      },
      "execution_count": 62,
      "outputs": []
    }
  ]
}