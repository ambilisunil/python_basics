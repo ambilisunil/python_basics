{
  "nbformat": 4,
  "nbformat_minor": 0,
  "metadata": {
    "colab": {
      "provenance": [],
      "authorship_tag": "ABX9TyPGpyeb+DMlU8YwmGzQUdLm",
      "include_colab_link": true
    },
    "kernelspec": {
      "name": "python3",
      "display_name": "Python 3"
    },
    "language_info": {
      "name": "python"
    }
  },
  "cells": [
    {
      "cell_type": "markdown",
      "metadata": {
        "id": "view-in-github",
        "colab_type": "text"
      },
      "source": [
        "<a href=\"https://colab.research.google.com/github/ambilisunil/python_basics/blob/main/lists.ipynb\" target=\"_parent\"><img src=\"https://colab.research.google.com/assets/colab-badge.svg\" alt=\"Open In Colab\"/></a>"
      ]
    },
    {
      "cell_type": "markdown",
      "source": [
        "# **LISTS**"
      ],
      "metadata": {
        "id": "dVUD6M45hE4z"
      }
    },
    {
      "cell_type": "code",
      "execution_count": 11,
      "metadata": {
        "colab": {
          "base_uri": "https://localhost:8080/"
        },
        "id": "-xeWrg03g_Fr",
        "outputId": "ee2196a9-2674-4f37-ea20-28eaf9418ac0"
      },
      "outputs": [
        {
          "output_type": "execute_result",
          "data": {
            "text/plain": [
              "[21, 66, 8, 9]"
            ]
          },
          "metadata": {},
          "execution_count": 11
        }
      ],
      "source": [
        "data=[21,66,8,9]\n",
        "data"
      ]
    },
    {
      "cell_type": "code",
      "source": [
        "print(len(data)) #fin lengnth use len(<element>)"
      ],
      "metadata": {
        "colab": {
          "base_uri": "https://localhost:8080/"
        },
        "id": "4uAh5yNyhefl",
        "outputId": "696635d9-99cf-435d-c133-aa6c039d2267"
      },
      "execution_count": 2,
      "outputs": [
        {
          "output_type": "stream",
          "name": "stdout",
          "text": [
            "4\n"
          ]
        }
      ]
    },
    {
      "cell_type": "code",
      "source": [
        "print(data[0]) #print first element\n",
        "print(data[1]) #print  element in postion 1\n"
      ],
      "metadata": {
        "colab": {
          "base_uri": "https://localhost:8080/"
        },
        "id": "HhnVcU6xhtrv",
        "outputId": "7996f0e4-b3e9-4d10-99b0-49f375070389"
      },
      "execution_count": 12,
      "outputs": [
        {
          "output_type": "stream",
          "name": "stdout",
          "text": [
            "21\n",
            "66\n"
          ]
        }
      ]
    },
    {
      "cell_type": "markdown",
      "source": [
        "**append() And pop()   For adding an remiving elemnts from list**\n",
        "\n",
        "> append() for add\n",
        "\n",
        "\n",
        "> pop() remove last elmt\n",
        "\n",
        "\n",
        "\n",
        "\n"
      ],
      "metadata": {
        "id": "Bk4vx-QgiKlg"
      }
    },
    {
      "cell_type": "code",
      "source": [
        "print(data)\n",
        "data.append(2)\n",
        "data.append(1002)\n",
        "data.append(300)\n",
        "\n",
        "\n",
        "print(data)\n",
        "removed=data.pop()\n",
        "print(\"removed\",removed)\n",
        "\n",
        "print(data)\n",
        "\n",
        "data.append(\"GGGHGG\")\n",
        "\n",
        "print(data)"
      ],
      "metadata": {
        "colab": {
          "base_uri": "https://localhost:8080/"
        },
        "id": "ZDn1lX7hh-4j",
        "outputId": "acec0a66-bbd8-4c21-e0b1-db5ed5cafba5"
      },
      "execution_count": 13,
      "outputs": [
        {
          "output_type": "stream",
          "name": "stdout",
          "text": [
            "[21, 66, 8, 9]\n",
            "[21, 66, 8, 9, 2, 1002, 300]\n",
            "removed 300\n",
            "[21, 66, 8, 9, 2, 1002]\n",
            "[21, 66, 8, 9, 2, 1002, 'GGGHGG']\n"
          ]
        }
      ]
    },
    {
      "cell_type": "markdown",
      "source": [
        "**extend()** to add elemnt fro array"
      ],
      "metadata": {
        "id": "3z9bjJQgjWGS"
      }
    },
    {
      "cell_type": "code",
      "source": [
        "print(data)\n",
        "data.extend([1,2,3])\n",
        "print(data)"
      ],
      "metadata": {
        "colab": {
          "base_uri": "https://localhost:8080/"
        },
        "id": "E6W9EPXNjdMh",
        "outputId": "93824bd5-eb4f-4640-a32e-1c776f987dff"
      },
      "execution_count": 14,
      "outputs": [
        {
          "output_type": "stream",
          "name": "stdout",
          "text": [
            "[21, 66, 8, 9, 2, 1002, 'GGGHGG']\n",
            "[21, 66, 8, 9, 2, 1002, 'GGGHGG', 1, 2, 3]\n"
          ]
        }
      ]
    },
    {
      "cell_type": "markdown",
      "source": [
        "**Operations**"
      ],
      "metadata": {
        "id": "TuxE8rS8j58K"
      }
    },
    {
      "cell_type": "code",
      "source": [
        "print(data[:])"
      ],
      "metadata": {
        "colab": {
          "base_uri": "https://localhost:8080/"
        },
        "id": "AALNbiBjj9I0",
        "outputId": "fec8cfcc-ae8f-42b5-b45a-75f44ce5d437"
      },
      "execution_count": 15,
      "outputs": [
        {
          "output_type": "stream",
          "name": "stdout",
          "text": [
            "[21, 66, 8, 9, 2, 1002, 'GGGHGG', 1, 2, 3]\n"
          ]
        }
      ]
    },
    {
      "cell_type": "code",
      "source": [
        "print(data[1:4])"
      ],
      "metadata": {
        "colab": {
          "base_uri": "https://localhost:8080/"
        },
        "id": "0bHCIgnJkEEQ",
        "outputId": "5d1ff2df-b04b-4302-a326-d8cc377d4fc4"
      },
      "execution_count": 16,
      "outputs": [
        {
          "output_type": "stream",
          "name": "stdout",
          "text": [
            "[66, 8, 9]\n"
          ]
        }
      ]
    },
    {
      "cell_type": "markdown",
      "source": [
        "**SORT using sort()**"
      ],
      "metadata": {
        "id": "kNVYMz7wkND_"
      }
    },
    {
      "cell_type": "code",
      "source": [
        "#print(data.sort())  #it will not work bze there are not same type elements\n",
        "\n",
        "num=[9.6,4,6,3,0]\n",
        "num.sort()\n",
        "print(num)\n"
      ],
      "metadata": {
        "colab": {
          "base_uri": "https://localhost:8080/"
        },
        "id": "Z-wKn4pikRsA",
        "outputId": "858210d5-581c-450c-bb2e-3840c01c94f4"
      },
      "execution_count": 22,
      "outputs": [
        {
          "output_type": "stream",
          "name": "stdout",
          "text": [
            "[0, 3, 4, 6, 9.6]\n"
          ]
        }
      ]
    },
    {
      "cell_type": "markdown",
      "source": [
        "*SORT REVERESE*  **sort(revers=True)**"
      ],
      "metadata": {
        "id": "yxJE7vo6krIW"
      }
    },
    {
      "cell_type": "code",
      "source": [
        "num=[9.6,4,6,3,0]\n",
        "\n",
        "num.sort(reverse=True)\n",
        "print(num)"
      ],
      "metadata": {
        "colab": {
          "base_uri": "https://localhost:8080/"
        },
        "id": "scGCzWYmkwFl",
        "outputId": "f1281c88-289a-48a9-ee5a-00c151bfe70a"
      },
      "execution_count": 25,
      "outputs": [
        {
          "output_type": "stream",
          "name": "stdout",
          "text": [
            "[9.6, 6, 4, 3, 0]\n"
          ]
        }
      ]
    },
    {
      "cell_type": "markdown",
      "source": [
        "**count()** :  how many particular elemt exist"
      ],
      "metadata": {
        "id": "vcMLl2SDlg5n"
      }
    },
    {
      "cell_type": "code",
      "source": [
        "q=[1,17,7,1,9,2,1,2,3,7,88,7,7,7]\n",
        "print(q)\n",
        "print(\"1 :  \",q.count(1))\n",
        "print(\"2 :  \",q.count(2))\n",
        "print(\"8 :  \",q.count(88))"
      ],
      "metadata": {
        "colab": {
          "base_uri": "https://localhost:8080/"
        },
        "id": "b_8hrM4flocK",
        "outputId": "f1f1365e-9bf7-4875-f3c4-d9b7f26b9a85"
      },
      "execution_count": 28,
      "outputs": [
        {
          "output_type": "stream",
          "name": "stdout",
          "text": [
            "[1, 17, 7, 1, 9, 2, 1, 2, 3, 7, 88, 7, 7, 7]\n",
            "1 :   3\n",
            "2 :   2\n",
            "8 :   1\n"
          ]
        }
      ]
    },
    {
      "cell_type": "markdown",
      "source": [
        "**IN** to check a elemnt ij list"
      ],
      "metadata": {
        "id": "NGUpqSP4mGXi"
      }
    },
    {
      "cell_type": "code",
      "source": [
        "n=input()\n",
        "\n",
        "if n in q:\n",
        "  print(n,\" is in list\")\n",
        "else:\n",
        "  print(n,\" is not in list\")\n",
        "\n",
        "\n"
      ],
      "metadata": {
        "colab": {
          "base_uri": "https://localhost:8080/"
        },
        "id": "8rQmzNWHmK_1",
        "outputId": "c4e4fb84-6971-4ef3-9887-529ade79b583"
      },
      "execution_count": 30,
      "outputs": [
        {
          "output_type": "stream",
          "name": "stdout",
          "text": [
            "4543\n",
            "4543  is not in list\n"
          ]
        }
      ]
    },
    {
      "cell_type": "markdown",
      "source": [
        "traverse"
      ],
      "metadata": {
        "id": "KB_9TpYrm3HV"
      }
    },
    {
      "cell_type": "code",
      "source": [
        "for i in q:\n",
        "  print(i,end=\"\")"
      ],
      "metadata": {
        "colab": {
          "base_uri": "https://localhost:8080/"
        },
        "id": "nZygQ0dXm5uq",
        "outputId": "298a05fe-b104-475f-c407-bc8eb9a66ce2"
      },
      "execution_count": 32,
      "outputs": [
        {
          "output_type": "stream",
          "name": "stdout",
          "text": [
            "1177192123788777"
          ]
        }
      ]
    },
    {
      "cell_type": "markdown",
      "source": [
        "traverse  **index**"
      ],
      "metadata": {
        "id": "XzMrZYtgnHWv"
      }
    },
    {
      "cell_type": "code",
      "source": [
        "for i in q :\n",
        "  print(q.index(i),\"-\",i, end=\" , \") # only user indexes if all elemnt having one occurance"
      ],
      "metadata": {
        "colab": {
          "base_uri": "https://localhost:8080/"
        },
        "id": "PBY2LGKVnL7F",
        "outputId": "5fda7dc6-9d30-45e7-aeec-3b8fd186f504"
      },
      "execution_count": 41,
      "outputs": [
        {
          "output_type": "stream",
          "name": "stdout",
          "text": [
            "0 - 1 , 1 - 17 , 2 - 7 , 0 - 1 , 4 - 9 , 5 - 2 , 0 - 1 , 5 - 2 , 8 - 3 , 2 - 7 , 10 - 88 , 2 - 7 , 2 - 7 , 2 - 7 , "
          ]
        }
      ]
    },
    {
      "cell_type": "markdown",
      "source": [
        "**enumerate**"
      ],
      "metadata": {
        "id": "SGK-0YuhnyYc"
      }
    },
    {
      "cell_type": "code",
      "source": [
        "for i,value in enumerate(q):  #itteration\n",
        "  print(i,\"-\",value,end=\"  ,  \")"
      ],
      "metadata": {
        "colab": {
          "base_uri": "https://localhost:8080/"
        },
        "id": "FNzQH7mmn-jE",
        "outputId": "43bf6634-dec1-40fc-e60d-3625f6319d55"
      },
      "execution_count": 45,
      "outputs": [
        {
          "output_type": "stream",
          "name": "stdout",
          "text": [
            "0 - 1  ,  1 - 17  ,  2 - 7  ,  3 - 1  ,  4 - 9  ,  5 - 2  ,  6 - 1  ,  7 - 2  ,  8 - 3  ,  9 - 7  ,  10 - 88  ,  11 - 7  ,  12 - 7  ,  13 - 7  ,  "
          ]
        }
      ]
    },
    {
      "cell_type": "markdown",
      "source": [
        "**min(),max(),inser() remove()**"
      ],
      "metadata": {
        "id": "RKvqRcjIpG0S"
      }
    },
    {
      "cell_type": "code",
      "source": [
        "data=[9,7,4,98,4,2,8,1,2,2,2,8,0,3]\n",
        "print(\"min : \",min(data))\n",
        "\n",
        "print(\"max : \",max(data))\n",
        "data.insert(1,100)\n",
        "print(\"100 is inseted  in 2nd index  \",data)\n",
        "data.remove(2)\n",
        "print(\"2 is removed \",data) #first 2 will remove\n"
      ],
      "metadata": {
        "colab": {
          "base_uri": "https://localhost:8080/"
        },
        "id": "zU4OTw6PpMbb",
        "outputId": "162103f4-a5de-40a9-a5ea-f146500b62b7"
      },
      "execution_count": 55,
      "outputs": [
        {
          "output_type": "stream",
          "name": "stdout",
          "text": [
            "min :  0\n",
            "max :  98\n",
            "100 is inseted  in 2nd index   [9, 100, 7, 4, 98, 4, 2, 8, 1, 2, 2, 2, 8, 0, 3]\n",
            "2 is removed  [9, 100, 7, 4, 98, 4, 8, 1, 2, 2, 2, 8, 0, 3]\n"
          ]
        }
      ]
    },
    {
      "cell_type": "markdown",
      "source": [
        "**split()** : splited data should list,"
      ],
      "metadata": {
        "id": "c5922JP4qvy0"
      }
    },
    {
      "cell_type": "code",
      "source": [
        "word= \"ambu ammu allu\"\n",
        "print(word.split())\n",
        " # by defult split using space\n",
        "\n",
        "\n",
        "word= \"ambu and ammu and allu\"\n",
        "print(word.split(\" and \"))  #split by and"
      ],
      "metadata": {
        "colab": {
          "base_uri": "https://localhost:8080/"
        },
        "id": "zds2MMBbq3vU",
        "outputId": "103ded00-d4c2-4ec3-bdee-81d7534acac3"
      },
      "execution_count": 61,
      "outputs": [
        {
          "output_type": "stream",
          "name": "stdout",
          "text": [
            "['ambu', 'ammu', 'allu']\n",
            "['ambu', 'ammu', 'allu']\n"
          ]
        }
      ]
    },
    {
      "cell_type": "markdown",
      "source": [
        "**join()**: joint array to form string"
      ],
      "metadata": {
        "id": "ewaD1qXWrika"
      }
    },
    {
      "cell_type": "code",
      "source": [
        "arr=[\"ammu\",\"arul\"]\n",
        "joined=\" and \".join(arr)\n",
        "print(arr,\" after joined ====> \" ,joined)"
      ],
      "metadata": {
        "colab": {
          "base_uri": "https://localhost:8080/"
        },
        "id": "xSN5-XU7ro2A",
        "outputId": "fe3a8932-4549-4367-f56a-5c01826c1198"
      },
      "execution_count": 66,
      "outputs": [
        {
          "output_type": "stream",
          "name": "stdout",
          "text": [
            "['ammu', 'arul']  after joined ====>  ammu and arul\n"
          ]
        }
      ]
    }
  ]
}