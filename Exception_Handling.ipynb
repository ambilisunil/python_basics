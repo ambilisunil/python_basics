{
  "nbformat": 4,
  "nbformat_minor": 0,
  "metadata": {
    "colab": {
      "provenance": [],
      "authorship_tag": "ABX9TyP3FgGKcqtv8VFwecvF8QRW",
      "include_colab_link": true
    },
    "kernelspec": {
      "name": "python3",
      "display_name": "Python 3"
    },
    "language_info": {
      "name": "python"
    }
  },
  "cells": [
    {
      "cell_type": "markdown",
      "metadata": {
        "id": "view-in-github",
        "colab_type": "text"
      },
      "source": [
        "<a href=\"https://colab.research.google.com/github/ambilisunil/python_basics/blob/main/Exception_Handling.ipynb\" target=\"_parent\"><img src=\"https://colab.research.google.com/assets/colab-badge.svg\" alt=\"Open In Colab\"/></a>"
      ]
    },
    {
      "cell_type": "markdown",
      "source": [
        "# Exception handling in is done using the **try-except** block to handle runtime errors gracefully without crashing the program."
      ],
      "metadata": {
        "id": "WfLADh7i3YTL"
      }
    },
    {
      "cell_type": "markdown",
      "source": [
        "**except**"
      ],
      "metadata": {
        "id": "Ad5HiYCD4AVM"
      }
    },
    {
      "cell_type": "code",
      "execution_count": 5,
      "metadata": {
        "colab": {
          "base_uri": "https://localhost:8080/"
        },
        "id": "OLSqLsS13T2W",
        "outputId": "190623cf-f9d2-4dd7-c2cc-6c08566dd80b"
      },
      "outputs": [
        {
          "output_type": "stream",
          "name": "stdout",
          "text": [
            "Enter a number: 0\n",
            "Error: Cannot divide by zero!\n"
          ]
        }
      ],
      "source": [
        "try:\n",
        "    num = int(input(\"Enter a number: \"))\n",
        "    result = 10 / num\n",
        "except ZeroDivisionError:\n",
        "    print(\"Error: Cannot divide by zero!\")\n",
        "else:\n",
        "    print(f\"Result: {result}\")  # Runs only if no error occurs\n"
      ]
    },
    {
      "cell_type": "markdown",
      "source": [
        "**finally**  The finally block runs no matter what (even if an exception occurs).\n"
      ],
      "metadata": {
        "id": "G3wFsx_O4Cz-"
      }
    },
    {
      "cell_type": "code",
      "source": [
        "try:\n",
        "    file = open(\"example.txt\", \"r\")\n",
        "    data = file.read()\n",
        "except FileNotFoundError:\n",
        "    print(\"Error: File not found!\")\n",
        "finally:\n",
        "    print(\"Closing file...\")\n"
      ],
      "metadata": {
        "colab": {
          "base_uri": "https://localhost:8080/"
        },
        "id": "dtg-gL6w4Eqf",
        "outputId": "ce4e6392-0a7e-454d-adc1-027364bd7951"
      },
      "execution_count": 7,
      "outputs": [
        {
          "output_type": "stream",
          "name": "stdout",
          "text": [
            "Error: File not found!\n",
            "Closing file...\n"
          ]
        }
      ]
    },
    {
      "cell_type": "markdown",
      "source": [
        "**rise**  like throw"
      ],
      "metadata": {
        "id": "jYcwchCg4eQZ"
      }
    },
    {
      "cell_type": "code",
      "source": [
        "def check_age(age):\n",
        "    if age < 18:\n",
        "        raise ValueError(\"Age must be 18 or above.\")\n",
        "    return \"Access granted!\"\n",
        "\n",
        "try:\n",
        "    print(check_age(16))\n",
        "except ValueError as e:\n",
        "    print(f\"Error: {e}\")\n"
      ],
      "metadata": {
        "colab": {
          "base_uri": "https://localhost:8080/"
        },
        "id": "gtJxlsyA4fs2",
        "outputId": "5d172e2b-3c30-4dd0-ceab-e08d744cbfa0"
      },
      "execution_count": 9,
      "outputs": [
        {
          "output_type": "stream",
          "name": "stdout",
          "text": [
            "Error: Age must be 18 or above.\n"
          ]
        }
      ]
    }
  ]
}